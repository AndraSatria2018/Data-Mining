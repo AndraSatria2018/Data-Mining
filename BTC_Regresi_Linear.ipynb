{
  "nbformat": 4,
  "nbformat_minor": 0,
  "metadata": {
    "colab": {
      "name": "BTC - Regresi Linear.ipynb",
      "provenance": [],
      "collapsed_sections": [],
      "authorship_tag": "ABX9TyNF97JS3j0TG3N8jm4d1ggk",
      "include_colab_link": true
    },
    "kernelspec": {
      "name": "python3",
      "display_name": "Python 3"
    },
    "language_info": {
      "name": "python"
    }
  },
  "cells": [
    {
      "cell_type": "markdown",
      "metadata": {
        "id": "view-in-github",
        "colab_type": "text"
      },
      "source": [
        "<a href=\"https://colab.research.google.com/github/AndraSatria2018/Data-Mining/blob/main/BTC_Regresi_Linear.ipynb\" target=\"_parent\"><img src=\"https://colab.research.google.com/assets/colab-badge.svg\" alt=\"Open In Colab\"/></a>"
      ]
    },
    {
      "cell_type": "code",
      "metadata": {
        "id": "4p-GzZUPMepJ"
      },
      "source": [
        "import numpy as np\n",
        "import pandas as pd\n",
        "import matplotlib.pyplot as plt\n",
        "import sklearn"
      ],
      "execution_count": 16,
      "outputs": []
    },
    {
      "cell_type": "code",
      "metadata": {
        "id": "nr3uoW_xM3ky"
      },
      "source": [
        "dataset = pd.read_excel('BTC_Data.xlsx')\n",
        "x = dataset.iloc[:, :-1].values\n",
        "y = dataset.iloc[:, 1].values"
      ],
      "execution_count": 17,
      "outputs": []
    },
    {
      "cell_type": "code",
      "metadata": {
        "colab": {
          "base_uri": "https://localhost:8080/"
        },
        "id": "bxTRQyr7NHxi",
        "outputId": "e5e48212-31f3-4898-a628-a16c358903d6"
      },
      "source": [
        "dataset.keys()"
      ],
      "execution_count": 18,
      "outputs": [
        {
          "output_type": "execute_result",
          "data": {
            "text/plain": [
              "Index(['Hari', 'Harga'], dtype='object')"
            ]
          },
          "metadata": {
            "tags": []
          },
          "execution_count": 18
        }
      ]
    },
    {
      "cell_type": "code",
      "metadata": {
        "colab": {
          "base_uri": "https://localhost:8080/"
        },
        "id": "yk8PAHUpNJ4E",
        "outputId": "9665d431-1bab-4905-90af-6f1d4a49c793"
      },
      "source": [
        "dataset.shape"
      ],
      "execution_count": 19,
      "outputs": [
        {
          "output_type": "execute_result",
          "data": {
            "text/plain": [
              "(731, 2)"
            ]
          },
          "metadata": {
            "tags": []
          },
          "execution_count": 19
        }
      ]
    },
    {
      "cell_type": "code",
      "metadata": {
        "colab": {
          "base_uri": "https://localhost:8080/",
          "height": 206
        },
        "id": "eLJx1Co3NLMN",
        "outputId": "03095bc7-c6f0-4f48-c4a4-706c96557de2"
      },
      "source": [
        "dataku = pd.DataFrame(dataset)\n",
        "dataku.head()"
      ],
      "execution_count": 20,
      "outputs": [
        {
          "output_type": "execute_result",
          "data": {
            "text/html": [
              "<div>\n",
              "<style scoped>\n",
              "    .dataframe tbody tr th:only-of-type {\n",
              "        vertical-align: middle;\n",
              "    }\n",
              "\n",
              "    .dataframe tbody tr th {\n",
              "        vertical-align: top;\n",
              "    }\n",
              "\n",
              "    .dataframe thead th {\n",
              "        text-align: right;\n",
              "    }\n",
              "</style>\n",
              "<table border=\"1\" class=\"dataframe\">\n",
              "  <thead>\n",
              "    <tr style=\"text-align: right;\">\n",
              "      <th></th>\n",
              "      <th>Hari</th>\n",
              "      <th>Harga</th>\n",
              "    </tr>\n",
              "  </thead>\n",
              "  <tbody>\n",
              "    <tr>\n",
              "      <th>0</th>\n",
              "      <td>1</td>\n",
              "      <td>123827000</td>\n",
              "    </tr>\n",
              "    <tr>\n",
              "      <th>1</th>\n",
              "      <td>2</td>\n",
              "      <td>124999000</td>\n",
              "    </tr>\n",
              "    <tr>\n",
              "      <th>2</th>\n",
              "      <td>3</td>\n",
              "      <td>128000000</td>\n",
              "    </tr>\n",
              "    <tr>\n",
              "      <th>3</th>\n",
              "      <td>4</td>\n",
              "      <td>131564000</td>\n",
              "    </tr>\n",
              "    <tr>\n",
              "      <th>4</th>\n",
              "      <td>5</td>\n",
              "      <td>129532000</td>\n",
              "    </tr>\n",
              "  </tbody>\n",
              "</table>\n",
              "</div>"
            ],
            "text/plain": [
              "   Hari      Harga\n",
              "0     1  123827000\n",
              "1     2  124999000\n",
              "2     3  128000000\n",
              "3     4  131564000\n",
              "4     5  129532000"
            ]
          },
          "metadata": {
            "tags": []
          },
          "execution_count": 20
        }
      ]
    },
    {
      "cell_type": "code",
      "metadata": {
        "colab": {
          "base_uri": "https://localhost:8080/"
        },
        "id": "4Z-gkEucX5kt",
        "outputId": "4ebce85f-689c-4f00-e2c2-2341a14d6ee1"
      },
      "source": [
        "print(dataku)"
      ],
      "execution_count": 21,
      "outputs": [
        {
          "output_type": "stream",
          "text": [
            "     Hari      Harga\n",
            "0       1  123827000\n",
            "1       2  124999000\n",
            "2       3  128000000\n",
            "3       4  131564000\n",
            "4       5  129532000\n",
            "..    ...        ...\n",
            "726   727  537102016\n",
            "727   728  526753984\n",
            "728   729  537710016\n",
            "729   730  515000000\n",
            "730   731  556492032\n",
            "\n",
            "[731 rows x 2 columns]\n"
          ],
          "name": "stdout"
        }
      ]
    },
    {
      "cell_type": "code",
      "metadata": {
        "id": "FtZnXXSXNREV"
      },
      "source": [
        "from sklearn.model_selection import train_test_split\n",
        "x_train, x_test, y_train, y_test = train_test_split(x, y, test_size = 0.2, random_state=0)"
      ],
      "execution_count": 22,
      "outputs": []
    },
    {
      "cell_type": "code",
      "metadata": {
        "colab": {
          "base_uri": "https://localhost:8080/"
        },
        "id": "fOMdompJYLrN",
        "outputId": "ab7dd1e6-a6c2-4304-9692-a73bd75376a6"
      },
      "source": [
        "print(y_test)"
      ],
      "execution_count": 23,
      "outputs": [
        {
          "output_type": "stream",
          "text": [
            "[101501000 101674000 179300000 155464000 134081000 118919000 118804000\n",
            " 704451968 162735008 164790000 139994000 138000000 169731008 116300000\n",
            " 102381000 105545000 847000000 778275968 132296000 139799008 642337024\n",
            " 537710016 881102016 104730000 132949000 478076000  98000000 139452000\n",
            " 710872000 232335008 153548992 140110000 811985024 105798000 139484992\n",
            " 133699000 512692992 321388000 142000992 130603000 157598000 124999000\n",
            " 116000000 171404992 487351008 730945984 137140992 137575008 134200000\n",
            " 148440000 221636992 462184000 164904992 269249984 119494000 143316992\n",
            " 133500000 845705024 545499008 135563008 157980992 165096000 714000000\n",
            " 684611968 252200000 139780992  76500000 178048000 222808992 939993024\n",
            " 186348000 338500000 152100992 567004032 121000000 650531968 175251008\n",
            " 451999008 140383008 515000000 112900000 913148032 101183000 151195008\n",
            " 126872000 243276992 118646000 166515008 412879008 128807000 157500000\n",
            " 147356992 553516032 550550016 189956000 492840992 111425000 530179008\n",
            " 118425000 138496000 125551000 160203008 520612992 806550016 133745000\n",
            " 109901000 855001024 830744000 156000000 137775008 115694000 129751000\n",
            " 132818000 148000000 139002000 120705000 134580992 119778000 839518976\n",
            " 154699008 149350000 103498000 146544992 137748992 118979000 116600000\n",
            " 156075008 235948000 161560000 138998000 147344992 512224000 165048992\n",
            " 111484000 132905000 171600000 160971008 122792000 100551000 134255008\n",
            " 162198000 121502000 406377984 827715008 129666000 197718000 134848992]\n"
          ],
          "name": "stdout"
        }
      ]
    },
    {
      "cell_type": "code",
      "metadata": {
        "id": "Iws_XQgDafnW",
        "colab": {
          "base_uri": "https://localhost:8080/"
        },
        "outputId": "4bb2d19f-5ebf-40ce-a5f3-9e78b5e1a559"
      },
      "source": [
        "print(x_test)"
      ],
      "execution_count": 24,
      "outputs": [
        {
          "output_type": "stream",
          "text": [
            "[[197]\n",
            " [188]\n",
            " [ 15]\n",
            " [ 32]\n",
            " [391]\n",
            " [320]\n",
            " [300]\n",
            " [703]\n",
            " [463]\n",
            " [ 28]\n",
            " [ 41]\n",
            " [361]\n",
            " [ 56]\n",
            " [158]\n",
            " [194]\n",
            " [171]\n",
            " [619]\n",
            " [680]\n",
            " [383]\n",
            " [ 80]\n",
            " [608]\n",
            " [729]\n",
            " [675]\n",
            " [163]\n",
            " [387]\n",
            " [597]\n",
            " [203]\n",
            " [243]\n",
            " [632]\n",
            " [519]\n",
            " [  9]\n",
            " [244]\n",
            " [648]\n",
            " [176]\n",
            " [357]\n",
            " [393]\n",
            " [573]\n",
            " [554]\n",
            " [ 76]\n",
            " [333]\n",
            " [477]\n",
            " [  2]\n",
            " [272]\n",
            " [420]\n",
            " [579]\n",
            " [633]\n",
            " [367]\n",
            " [248]\n",
            " [400]\n",
            " [ 86]\n",
            " [514]\n",
            " [570]\n",
            " [486]\n",
            " [530]\n",
            " [216]\n",
            " [331]\n",
            " [334]\n",
            " [656]\n",
            " [577]\n",
            " [370]\n",
            " [476]\n",
            " [414]\n",
            " [627]\n",
            " [624]\n",
            " [524]\n",
            " [250]\n",
            " [273]\n",
            " [433]\n",
            " [512]\n",
            " [670]\n",
            " [496]\n",
            " [558]\n",
            " [450]\n",
            " [576]\n",
            " [104]\n",
            " [704]\n",
            " [438]\n",
            " [591]\n",
            " [352]\n",
            " [730]\n",
            " [211]\n",
            " [674]\n",
            " [182]\n",
            " [ 51]\n",
            " [268]\n",
            " [532]\n",
            " [223]\n",
            " [488]\n",
            " [568]\n",
            " [143]\n",
            " [ 11]\n",
            " [ 69]\n",
            " [574]\n",
            " [581]\n",
            " [500]\n",
            " [725]\n",
            " [302]\n",
            " [580]\n",
            " [215]\n",
            " [405]\n",
            " [264]\n",
            " [483]\n",
            " [710]\n",
            " [649]\n",
            " [347]\n",
            " [212]\n",
            " [663]\n",
            " [637]\n",
            " [457]\n",
            " [355]\n",
            " [114]\n",
            " [237]\n",
            " [252]\n",
            " [ 50]\n",
            " [407]\n",
            " [157]\n",
            " [256]\n",
            " [123]\n",
            " [664]\n",
            " [458]\n",
            " [ 38]\n",
            " [173]\n",
            " [ 49]\n",
            " [366]\n",
            " [319]\n",
            " [269]\n",
            " [ 19]\n",
            " [522]\n",
            " [416]\n",
            " [ 77]\n",
            " [ 65]\n",
            " [583]\n",
            " [ 53]\n",
            " [294]\n",
            " [390]\n",
            " [444]\n",
            " [471]\n",
            " [262]\n",
            " [280]\n",
            " [253]\n",
            " [484]\n",
            " [119]\n",
            " [567]\n",
            " [689]\n",
            " [267]\n",
            " [505]\n",
            " [240]]\n"
          ],
          "name": "stdout"
        }
      ]
    },
    {
      "cell_type": "code",
      "metadata": {
        "colab": {
          "base_uri": "https://localhost:8080/"
        },
        "id": "vjoKGczNNmhI",
        "outputId": "0649f687-ee43-4780-bbc0-6ef409f231d1"
      },
      "source": [
        "from sklearn.linear_model import LinearRegression\n",
        "regressor = LinearRegression()\n",
        "regressor.fit(x_train, y_train)"
      ],
      "execution_count": 25,
      "outputs": [
        {
          "output_type": "execute_result",
          "data": {
            "text/plain": [
              "LinearRegression(copy_X=True, fit_intercept=True, n_jobs=None, normalize=False)"
            ]
          },
          "metadata": {
            "tags": []
          },
          "execution_count": 25
        }
      ]
    },
    {
      "cell_type": "code",
      "metadata": {
        "id": "2r86q6NGNyzW"
      },
      "source": [
        "y_pred = regressor.predict(x_test)"
      ],
      "execution_count": 26,
      "outputs": []
    },
    {
      "cell_type": "code",
      "metadata": {
        "colab": {
          "base_uri": "https://localhost:8080/",
          "height": 295
        },
        "id": "1Qfqt6n1N4RE",
        "outputId": "328af8ea-7aa8-4f79-80bf-b872f24bd30b"
      },
      "source": [
        "plt.scatter(dataku.Hari, dataku.Harga)\n",
        "plt.xlabel(\"Hari\")\n",
        "plt.ylabel(\"Harga\")\n",
        "plt.title(\"Grafik Harga Bitcoin Selama satu tahun\")\n",
        "plt.show()"
      ],
      "execution_count": 27,
      "outputs": [
        {
          "output_type": "display_data",
          "data": {
            "image/png": "[encoded data removed]",
            "text/plain": [
              "<Figure size 432x288 with 1 Axes>"
            ]
          },
          "metadata": {
            "tags": [],
            "needs_background": "light"
          }
        }
      ]
    },
    {
      "cell_type": "code",
      "metadata": {
        "colab": {
          "base_uri": "https://localhost:8080/",
          "height": 513
        },
        "id": "4LgIR-FRONVY",
        "outputId": "1f5dd954-d0ab-40e1-9f04-9d5188db71b4"
      },
      "source": [
        "plt.figure(figsize=(10,8))\n",
        "plt.scatter(x_train, y_train, color = \"blue\")\n",
        "plt.plot(x_train, regressor.predict(x_train), color = 'red')\n",
        "\n",
        "plt.title('Perubahan Harga Bitcoin (Training Set)')\n",
        "plt.xlabel('Hari')\n",
        "plt.ylabel('Harga')\n",
        "plt.show()"
      ],
      "execution_count": 28,
      "outputs": [
        {
          "output_type": "display_data",
          "data": {
            "image/png": "[encoded data removed]",
            "text/plain": [
              "<Figure size 720x576 with 1 Axes>"
            ]
          },
          "metadata": {
            "tags": [],
            "needs_background": "light"
          }
        }
      ]
    },
    {
      "cell_type": "code",
      "metadata": {
        "colab": {
          "base_uri": "https://localhost:8080/",
          "height": 513
        },
        "id": "CMp9XHcVOuVe",
        "outputId": "62379073-7d0a-40fa-d94e-85472a98a274"
      },
      "source": [
        "plt.figure(figsize=(10,8))\n",
        "plt.scatter(x_test, y_test, color = \"blue\")\n",
        "plt.plot(x_test, regressor.predict(x_test), color = 'red')\n",
        "\n",
        "plt.title('Perubahan Harga Bitcoin(test Set)')\n",
        "plt.xlabel('Hari')\n",
        "plt.ylabel('Harga')\n",
        "plt.show()"
      ],
      "execution_count": 29,
      "outputs": [
        {
          "output_type": "display_data",
          "data": {
            "image/png": "[encoded data removed]",
            "text/plain": [
              "<Figure size 720x576 with 1 Axes>"
            ]
          },
          "metadata": {
            "tags": [],
            "needs_background": "light"
          }
        }
      ]
    }
  ]
}