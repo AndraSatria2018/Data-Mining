{
  "nbformat": 4,
  "nbformat_minor": 0,
  "metadata": {
    "colab": {
      "name": "BTC Bulanan - Regresi Linear.ipynb",
      "provenance": [],
      "collapsed_sections": [],
      "authorship_tag": "ABX9TyM7JzEyLhCtlpTtoa/fhNSN",
      "include_colab_link": true
    },
    "kernelspec": {
      "name": "python3",
      "display_name": "Python 3"
    },
    "language_info": {
      "name": "python"
    }
  },
  "cells": [
    {
      "cell_type": "markdown",
      "metadata": {
        "id": "view-in-github",
        "colab_type": "text"
      },
      "source": [
        "<a href=\"https://colab.research.google.com/github/AndraSatria2018/Data-Mining/blob/main/BTC_Bulanan_Regresi_Linear.ipynb\" target=\"_parent\"><img src=\"https://colab.research.google.com/assets/colab-badge.svg\" alt=\"Open In Colab\"/></a>"
      ]
    },
    {
      "cell_type": "code",
      "metadata": {
        "id": "4p-GzZUPMepJ"
      },
      "source": [
        "import numpy as np\n",
        "import pandas as pd\n",
        "import matplotlib.pyplot as plt\n",
        "import sklearn"
      ],
      "execution_count": 1,
      "outputs": []
    },
    {
      "cell_type": "code",
      "metadata": {
        "id": "nr3uoW_xM3ky"
      },
      "source": [
        "dataset = pd.read_excel('BTC_Bulan.xlsx')\n",
        "x = dataset.iloc[:, :-1].values\n",
        "y = dataset.iloc[:, 1].values"
      ],
      "execution_count": 2,
      "outputs": []
    },
    {
      "cell_type": "code",
      "metadata": {
        "colab": {
          "base_uri": "https://localhost:8080/"
        },
        "id": "bxTRQyr7NHxi",
        "outputId": "b20c28d6-a264-4609-c37a-acb14eca3b35"
      },
      "source": [
        "dataset.keys()"
      ],
      "execution_count": 3,
      "outputs": [
        {
          "output_type": "execute_result",
          "data": {
            "text/plain": [
              "Index(['Bulan', 'Harga'], dtype='object')"
            ]
          },
          "metadata": {
            "tags": []
          },
          "execution_count": 3
        }
      ]
    },
    {
      "cell_type": "code",
      "metadata": {
        "colab": {
          "base_uri": "https://localhost:8080/"
        },
        "id": "yk8PAHUpNJ4E",
        "outputId": "0801394c-8461-46c1-d3f1-f5b76a33f6ac"
      },
      "source": [
        "dataset.shape"
      ],
      "execution_count": 4,
      "outputs": [
        {
          "output_type": "execute_result",
          "data": {
            "text/plain": [
              "(36, 2)"
            ]
          },
          "metadata": {
            "tags": []
          },
          "execution_count": 4
        }
      ]
    },
    {
      "cell_type": "code",
      "metadata": {
        "colab": {
          "base_uri": "https://localhost:8080/",
          "height": 206
        },
        "id": "eLJx1Co3NLMN",
        "outputId": "882be5e3-f257-4ed5-8c53-309cde5135b4"
      },
      "source": [
        "dataku = pd.DataFrame(dataset)\n",
        "dataku.head()"
      ],
      "execution_count": 5,
      "outputs": [
        {
          "output_type": "execute_result",
          "data": {
            "text/html": [
              "<div>\n",
              "<style scoped>\n",
              "    .dataframe tbody tr th:only-of-type {\n",
              "        vertical-align: middle;\n",
              "    }\n",
              "\n",
              "    .dataframe tbody tr th {\n",
              "        vertical-align: top;\n",
              "    }\n",
              "\n",
              "    .dataframe thead th {\n",
              "        text-align: right;\n",
              "    }\n",
              "</style>\n",
              "<table border=\"1\" class=\"dataframe\">\n",
              "  <thead>\n",
              "    <tr style=\"text-align: right;\">\n",
              "      <th></th>\n",
              "      <th>Bulan</th>\n",
              "      <th>Harga</th>\n",
              "    </tr>\n",
              "  </thead>\n",
              "  <tbody>\n",
              "    <tr>\n",
              "      <th>0</th>\n",
              "      <td>1</td>\n",
              "      <td>113588000</td>\n",
              "    </tr>\n",
              "    <tr>\n",
              "      <th>1</th>\n",
              "      <td>2</td>\n",
              "      <td>102979000</td>\n",
              "    </tr>\n",
              "    <tr>\n",
              "      <th>2</th>\n",
              "      <td>3</td>\n",
              "      <td>98539000</td>\n",
              "    </tr>\n",
              "    <tr>\n",
              "      <th>3</th>\n",
              "      <td>4</td>\n",
              "      <td>97072000</td>\n",
              "    </tr>\n",
              "    <tr>\n",
              "      <th>4</th>\n",
              "      <td>5</td>\n",
              "      <td>58850000</td>\n",
              "    </tr>\n",
              "  </tbody>\n",
              "</table>\n",
              "</div>"
            ],
            "text/plain": [
              "   Bulan      Harga\n",
              "0      1  113588000\n",
              "1      2  102979000\n",
              "2      3   98539000\n",
              "3      4   97072000\n",
              "4      5   58850000"
            ]
          },
          "metadata": {
            "tags": []
          },
          "execution_count": 5
        }
      ]
    },
    {
      "cell_type": "code",
      "metadata": {
        "colab": {
          "base_uri": "https://localhost:8080/"
        },
        "id": "4Z-gkEucX5kt",
        "outputId": "f6e4bd50-7f22-49ec-ac19-f4516601b1f7"
      },
      "source": [
        "print(dataku)"
      ],
      "execution_count": 6,
      "outputs": [
        {
          "output_type": "stream",
          "text": [
            "    Bulan      Harga\n",
            "0       1  113588000\n",
            "1       2  102979000\n",
            "2       3   98539000\n",
            "3       4   97072000\n",
            "4       5   58850000\n",
            "5       6   54953000\n",
            "6       7   48582000\n",
            "7       8   54558000\n",
            "8       9   58860000\n",
            "9      10   75912000\n",
            "10     11  125016000\n",
            "11     12  158559008\n",
            "12     13  142820000\n",
            "13     14  138158000\n",
            "14     15  119232000\n",
            "15     16  129200000\n",
            "16     17  107848000\n",
            "17     18  100402000\n",
            "18     19  127444000\n",
            "19     20  123000000\n",
            "20     21  106036000\n",
            "21     22  127862000\n",
            "22     23  137799008\n",
            "23     24  132296000\n",
            "24     25  165096000\n",
            "25     26  171000992\n",
            "26     27  160488000\n",
            "27     28  201663008\n",
            "28     29  274848992\n",
            "29     30  406377984\n",
            "30     31  465246016\n",
            "31     32  662300032\n",
            "32     33  850769984\n",
            "33     34  839086976\n",
            "34     35  545300992\n",
            "35     36  539499008\n"
          ],
          "name": "stdout"
        }
      ]
    },
    {
      "cell_type": "code",
      "metadata": {
        "id": "FtZnXXSXNREV"
      },
      "source": [
        "from sklearn.model_selection import train_test_split\n",
        "x_train, x_test, y_train, y_test = train_test_split(x, y, test_size = 0.2, random_state=0)"
      ],
      "execution_count": 7,
      "outputs": []
    },
    {
      "cell_type": "code",
      "metadata": {
        "colab": {
          "base_uri": "https://localhost:8080/"
        },
        "id": "fOMdompJYLrN",
        "outputId": "3f7edf9f-0c79-4afe-db44-0d5205eb388e"
      },
      "source": [
        "print(y_test)"
      ],
      "execution_count": 8,
      "outputs": [
        {
          "output_type": "stream",
          "text": [
            "[662300032 106036000 107848000 465246016 137799008 129200000 125016000\n",
            "  98539000]\n"
          ],
          "name": "stdout"
        }
      ]
    },
    {
      "cell_type": "code",
      "metadata": {
        "id": "Iws_XQgDafnW",
        "colab": {
          "base_uri": "https://localhost:8080/"
        },
        "outputId": "ec69d8f9-15b7-4a24-af57-07b91928774f"
      },
      "source": [
        "print(x_test)"
      ],
      "execution_count": 9,
      "outputs": [
        {
          "output_type": "stream",
          "text": [
            "[[32]\n",
            " [21]\n",
            " [17]\n",
            " [31]\n",
            " [23]\n",
            " [16]\n",
            " [11]\n",
            " [ 3]]\n"
          ],
          "name": "stdout"
        }
      ]
    },
    {
      "cell_type": "code",
      "metadata": {
        "colab": {
          "base_uri": "https://localhost:8080/"
        },
        "id": "vjoKGczNNmhI",
        "outputId": "e76553b1-9f50-4e4a-f2fb-71eeed0adbc5"
      },
      "source": [
        "from sklearn.linear_model import LinearRegression\n",
        "regressor = LinearRegression()\n",
        "regressor.fit(x_train, y_train)"
      ],
      "execution_count": 10,
      "outputs": [
        {
          "output_type": "execute_result",
          "data": {
            "text/plain": [
              "LinearRegression(copy_X=True, fit_intercept=True, n_jobs=None, normalize=False)"
            ]
          },
          "metadata": {
            "tags": []
          },
          "execution_count": 10
        }
      ]
    },
    {
      "cell_type": "code",
      "metadata": {
        "id": "2r86q6NGNyzW"
      },
      "source": [
        "y_pred = regressor.predict(x_test)"
      ],
      "execution_count": 11,
      "outputs": []
    },
    {
      "cell_type": "code",
      "metadata": {
        "colab": {
          "base_uri": "https://localhost:8080/",
          "height": 295
        },
        "id": "1Qfqt6n1N4RE",
        "outputId": "d124b9b9-a30a-4571-b54f-36a455bd1419"
      },
      "source": [
        "plt.scatter(dataku.Bulan, dataku.Harga)\n",
        "plt.xlabel(\"Bulan\")\n",
        "plt.ylabel(\"Harga\")\n",
        "plt.title(\"Grafik Harga Bitcoin tiap bulan dari tahun 2018\")\n",
        "plt.show()"
      ],
      "execution_count": 12,
      "outputs": [
        {
          "output_type": "display_data",
          "data": {
            "image/png": "[encoded data removed]",
            "text/plain": [
              "<Figure size 432x288 with 1 Axes>"
            ]
          },
          "metadata": {
            "tags": [],
            "needs_background": "light"
          }
        }
      ]
    },
    {
      "cell_type": "code",
      "metadata": {
        "colab": {
          "base_uri": "https://localhost:8080/",
          "height": 513
        },
        "id": "4LgIR-FRONVY",
        "outputId": "38eec1f2-66bf-48ec-f2bd-43395abe65af"
      },
      "source": [
        "plt.figure(figsize=(10,8))\n",
        "plt.scatter(x_train, y_train, color = \"blue\")\n",
        "plt.plot(x_train, regressor.predict(x_train), color = 'red')\n",
        "\n",
        "plt.title('Perubahan Harga Bitcoin (Training Set)')\n",
        "plt.xlabel('Bulan')\n",
        "plt.ylabel('Harga')\n",
        "plt.show()"
      ],
      "execution_count": 13,
      "outputs": [
        {
          "output_type": "display_data",
          "data": {
            "image/png": "[encoded data removed]",
            "text/plain": [
              "<Figure size 720x576 with 1 Axes>"
            ]
          },
          "metadata": {
            "tags": [],
            "needs_background": "light"
          }
        }
      ]
    },
    {
      "cell_type": "code",
      "metadata": {
        "colab": {
          "base_uri": "https://localhost:8080/",
          "height": 513
        },
        "id": "CMp9XHcVOuVe",
        "outputId": "457e31eb-f9e0-49b7-f3e3-065a78d4f57b"
      },
      "source": [
        "plt.figure(figsize=(10,8))\n",
        "plt.scatter(x_test, y_test, color = \"blue\")\n",
        "plt.plot(x_test, regressor.predict(x_test), color = 'red')\n",
        "\n",
        "plt.title('Perubahan Harga Bitcoin (test Set)')\n",
        "plt.xlabel('Bulan')\n",
        "plt.ylabel('Harga')\n",
        "plt.show()"
      ],
      "execution_count": 14,
      "outputs": [
        {
          "output_type": "display_data",
          "data": {
            "image/png": "[encoded data removed]",
            "text/plain": [
              "<Figure size 720x576 with 1 Axes>"
            ]
          },
          "metadata": {
            "tags": [],
            "needs_background": "light"
          }
        }
      ]
    }
  ]
}