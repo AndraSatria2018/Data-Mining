{
  "nbformat": 4,
  "nbformat_minor": 0,
  "metadata": {
    "colab": {
      "name": "Preprocessing_(Andra_11194).ipynb",
      "provenance": [],
      "collapsed_sections": [],
      "authorship_tag": "ABX9TyMZF5jeOXnA9D1eHE0p/HWY",
      "include_colab_link": true
    },
    "kernelspec": {
      "name": "python3",
      "display_name": "Python 3"
    },
    "language_info": {
      "name": "python"
    }
  },
  "cells": [
    {
      "cell_type": "markdown",
      "metadata": {
        "id": "view-in-github",
        "colab_type": "text"
      },
      "source": [
        "<a href=\"https://colab.research.google.com/github/AndraSatria2018/Data-Mining/blob/main/Preprocessing_(Andra_11194).ipynb\" target=\"_parent\"><img src=\"https://colab.research.google.com/assets/colab-badge.svg\" alt=\"Open In Colab\"/></a>"
      ]
    },
    {
      "cell_type": "markdown",
      "metadata": {
        "id": "_BXbJBy0kAo9"
      },
      "source": [
        "# Tugas 3 Mata Kuliah Data Mining ( PreProcessing data )"
      ]
    },
    {
      "cell_type": "markdown",
      "metadata": {
        "id": "YbZMt0IvkB-4"
      },
      "source": [
        "data yang digunakan adalah data Siswa"
      ]
    },
    {
      "cell_type": "code",
      "metadata": {
        "id": "jGBoRC9_j3RD"
      },
      "source": [
        "import numpy as np\n",
        "import matplotlib.pyplot as ply\n",
        "import pandas as pd"
      ],
      "execution_count": 79,
      "outputs": []
    },
    {
      "cell_type": "code",
      "metadata": {
        "id": "qKpW9b6ulyi1"
      },
      "source": [
        "dataset = pd.read_csv('buku.csv')\n",
        "x = dataset.iloc[:, :-1].values\n",
        "y = dataset.iloc[:, -1].values"
      ],
      "execution_count": 80,
      "outputs": []
    },
    {
      "cell_type": "code",
      "metadata": {
        "id": "fOYB9KVCmPbW"
      },
      "source": [
        "print(x)"
      ],
      "execution_count": null,
      "outputs": []
    },
    {
      "cell_type": "code",
      "metadata": {
        "id": "MCSxNCrjmVxD"
      },
      "source": [
        "print(y)"
      ],
      "execution_count": null,
      "outputs": []
    },
    {
      "cell_type": "code",
      "metadata": {
        "id": "kOZqJZA5mcZ7"
      },
      "source": [
        "from sklearn.impute import SimpleImputer\n",
        "imputer = SimpleImputer(missing_values=np.nan, strategy='mean') \n",
        "imputer.fit(x[:, 1:3])\n",
        "x[:, 1:3] = imputer.transform(x[:, 1:3])"
      ],
      "execution_count": 82,
      "outputs": []
    },
    {
      "cell_type": "code",
      "metadata": {
        "colab": {
          "base_uri": "https://localhost:8080/"
        },
        "id": "KLa5sW7zeOEr",
        "outputId": "b63fe436-3029-471c-fcf7-7224e19de00c"
      },
      "source": [
        "print(x)"
      ],
      "execution_count": 83,
      "outputs": [
        {
          "output_type": "stream",
          "text": [
            "[['Andra' 167.0 60.0]\n",
            " ['Satria' 168.0 62.0]\n",
            " ['Hermawan' 169.0 59.375]\n",
            " ['Andra' 160.0 59.0]\n",
            " ['Ari' 155.0 49.0]\n",
            " ['Hermawan' 168.0 45.0]\n",
            " ['Danu' 178.0 68.0]\n",
            " ['Satria' 168.0 72.0]\n",
            " ['Eri' 185.0 59.375]\n",
            " ['Andra' 162.0 60.0]]\n"
          ],
          "name": "stdout"
        }
      ]
    },
    {
      "cell_type": "code",
      "metadata": {
        "id": "r1ooE04Tg4e2"
      },
      "source": [
        "from sklearn.compose import ColumnTransformer\n",
        "from sklearn.preprocessing import OneHotEncoder\n",
        "ct = ColumnTransformer(transformers=[('encoder', OneHotEncoder(), [0])], remainder='passthrough')\n",
        "x = np.array(ct.fit_transform(x))"
      ],
      "execution_count": 84,
      "outputs": []
    },
    {
      "cell_type": "code",
      "metadata": {
        "colab": {
          "base_uri": "https://localhost:8080/"
        },
        "id": "TL8yDEI8kscM",
        "outputId": "07520174-c975-4f6f-8efe-d549d2e718d4"
      },
      "source": [
        "print(x)"
      ],
      "execution_count": 85,
      "outputs": [
        {
          "output_type": "stream",
          "text": [
            "[[1.0 0.0 0.0 0.0 0.0 0.0 167.0 60.0]\n",
            " [0.0 0.0 0.0 0.0 0.0 1.0 168.0 62.0]\n",
            " [0.0 0.0 0.0 0.0 1.0 0.0 169.0 59.375]\n",
            " [1.0 0.0 0.0 0.0 0.0 0.0 160.0 59.0]\n",
            " [0.0 1.0 0.0 0.0 0.0 0.0 155.0 49.0]\n",
            " [0.0 0.0 0.0 0.0 1.0 0.0 168.0 45.0]\n",
            " [0.0 0.0 1.0 0.0 0.0 0.0 178.0 68.0]\n",
            " [0.0 0.0 0.0 0.0 0.0 1.0 168.0 72.0]\n",
            " [0.0 0.0 0.0 1.0 0.0 0.0 185.0 59.375]\n",
            " [1.0 0.0 0.0 0.0 0.0 0.0 162.0 60.0]]\n"
          ],
          "name": "stdout"
        }
      ]
    },
    {
      "cell_type": "code",
      "metadata": {
        "id": "5x937hbWkwJU"
      },
      "source": [
        "from sklearn.preprocessing import LabelEncoder\n",
        "le = LabelEncoder()\n",
        "y = le.fit_transform(y)"
      ],
      "execution_count": 86,
      "outputs": []
    },
    {
      "cell_type": "code",
      "metadata": {
        "colab": {
          "base_uri": "https://localhost:8080/"
        },
        "id": "79vKO1ZwlAYz",
        "outputId": "4447b753-0bfd-425b-d7c9-8f5f559f01b7"
      },
      "source": [
        "print(y)"
      ],
      "execution_count": 87,
      "outputs": [
        {
          "output_type": "stream",
          "text": [
            "[1 0 0 1 1 1 0 1 0 0]\n"
          ],
          "name": "stdout"
        }
      ]
    },
    {
      "cell_type": "code",
      "metadata": {
        "id": "rrJYWnbklEUK"
      },
      "source": [
        "from sklearn.model_selection import train_test_split\n",
        "x_train, x_test, y_train, y_test = train_test_split(x,y, test_size=0.2, random_state=1)"
      ],
      "execution_count": 88,
      "outputs": []
    },
    {
      "cell_type": "code",
      "metadata": {
        "colab": {
          "base_uri": "https://localhost:8080/"
        },
        "id": "FzQtH_JfnB-e",
        "outputId": "20784332-cae9-4b95-a88b-a90df5f860bd"
      },
      "source": [
        "print(x_train)"
      ],
      "execution_count": 89,
      "outputs": [
        {
          "output_type": "stream",
          "text": [
            "[[0.0 0.0 1.0 0.0 0.0 0.0 178.0 68.0]\n",
            " [0.0 1.0 0.0 0.0 0.0 0.0 155.0 49.0]\n",
            " [1.0 0.0 0.0 0.0 0.0 0.0 167.0 60.0]\n",
            " [1.0 0.0 0.0 0.0 0.0 0.0 160.0 59.0]\n",
            " [0.0 0.0 0.0 0.0 0.0 1.0 168.0 62.0]\n",
            " [0.0 0.0 0.0 0.0 0.0 1.0 168.0 72.0]\n",
            " [0.0 0.0 0.0 1.0 0.0 0.0 185.0 59.375]\n",
            " [0.0 0.0 0.0 0.0 1.0 0.0 168.0 45.0]]\n"
          ],
          "name": "stdout"
        }
      ]
    },
    {
      "cell_type": "code",
      "metadata": {
        "colab": {
          "base_uri": "https://localhost:8080/"
        },
        "id": "SVKNeriGnNxt",
        "outputId": "0adc69e4-a8fb-4948-d259-deab8a93a645"
      },
      "source": [
        "print(x_test)"
      ],
      "execution_count": 90,
      "outputs": [
        {
          "output_type": "stream",
          "text": [
            "[[0.0 0.0 0.0 0.0 1.0 0.0 169.0 59.375]\n",
            " [1.0 0.0 0.0 0.0 0.0 0.0 162.0 60.0]]\n"
          ],
          "name": "stdout"
        }
      ]
    },
    {
      "cell_type": "code",
      "metadata": {
        "colab": {
          "base_uri": "https://localhost:8080/"
        },
        "id": "wv7bgRVFnWLl",
        "outputId": "255803f4-99fc-4423-a778-313f814b6939"
      },
      "source": [
        "print(y_train)"
      ],
      "execution_count": 91,
      "outputs": [
        {
          "output_type": "stream",
          "text": [
            "[0 1 1 1 0 1 0 1]\n"
          ],
          "name": "stdout"
        }
      ]
    },
    {
      "cell_type": "code",
      "metadata": {
        "colab": {
          "base_uri": "https://localhost:8080/"
        },
        "id": "VN_9a7bKnZNX",
        "outputId": "b7becdda-842e-40ec-d740-f3d0b8dd6b42"
      },
      "source": [
        "print(y_test)"
      ],
      "execution_count": 92,
      "outputs": [
        {
          "output_type": "stream",
          "text": [
            "[0 0]\n"
          ],
          "name": "stdout"
        }
      ]
    },
    {
      "cell_type": "code",
      "metadata": {
        "id": "xJ9FATpKndxS"
      },
      "source": [
        "from sklearn.preprocessing import StandardScaler\n",
        "sc = StandardScaler()\n",
        "x_train[:, 3:] = sc.fit_transform(x_train[:, 3:])\n",
        "x_test[:, 3:] = sc.transform(x_test[:, 3:])"
      ],
      "execution_count": 94,
      "outputs": []
    },
    {
      "cell_type": "code",
      "metadata": {
        "colab": {
          "base_uri": "https://localhost:8080/"
        },
        "id": "sZiroeeUoAbC",
        "outputId": "beee4242-a52d-4fac-ba5f-4667f37271ea"
      },
      "source": [
        "print(x_train)"
      ],
      "execution_count": 95,
      "outputs": [
        {
          "output_type": "stream",
          "text": [
            "[[0.0 0.0 1.0 -0.3779644730092272 -0.3779644730092272 -0.5773502691896258\n",
            "  1.0650358071057624 1.0444878189374986]\n",
            " [0.0 1.0 0.0 -0.3779644730092272 -0.3779644730092272 -0.5773502691896258\n",
            "  -1.5478520396603748 -1.235758478778836]\n",
            " [1.0 0.0 0.0 -0.3779644730092272 -0.3779644730092272 -0.5773502691896258\n",
            "  -0.18460620656499882 0.08438411463588412]\n",
            " [1.0 0.0 0.0 -0.3779644730092272 -0.3779644730092272 -0.5773502691896258\n",
            "  -0.9798329425373015 -0.0356288484018177]\n",
            " [0.0 0.0 0.0 -0.3779644730092272 -0.3779644730092272 1.7320508075688774\n",
            "  -0.07100238714038416 0.32441004071128776]\n",
            " [0.0 0.0 0.0 -0.3779644730092272 -0.3779644730092272 1.7320508075688774\n",
            "  -0.07100238714038416 1.524539671088306]\n",
            " [0.0 0.0 0.0 2.6457513110645907 -0.3779644730092272 -0.5773502691896258\n",
            "  1.8602625430780653 0.009376012737320484]\n",
            " [0.0 0.0 0.0 -0.3779644730092272 2.6457513110645907 -0.5773502691896258\n",
            "  -0.07100238714038416 -1.7158103309296433]]\n"
          ],
          "name": "stdout"
        }
      ]
    },
    {
      "cell_type": "code",
      "metadata": {
        "colab": {
          "base_uri": "https://localhost:8080/"
        },
        "id": "pRqhtcqXoEzs",
        "outputId": "ba142db5-bfb9-4720-b0bf-897a85aa5972"
      },
      "source": [
        "print(x_test)"
      ],
      "execution_count": 96,
      "outputs": [
        {
          "output_type": "stream",
          "text": [
            "[[0.0 0.0 0.0 4.1633363423443376e-17 1.0000000000000002\n",
            "  2.7755575615628914e-17 169.0 59.375]\n",
            " [1.0 0.0 0.0 4.1633363423443376e-17 5.551115123125784e-17\n",
            "  2.7755575615628914e-17 162.0 60.0]]\n"
          ],
          "name": "stdout"
        }
      ]
    }
  ]
}