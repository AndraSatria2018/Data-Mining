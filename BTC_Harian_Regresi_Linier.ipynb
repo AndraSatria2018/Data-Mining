{
  "nbformat": 4,
  "nbformat_minor": 0,
  "metadata": {
    "colab": {
      "name": "BTC Harian - Regresi Linier.ipynb",
      "provenance": [],
      "collapsed_sections": [],
      "authorship_tag": "ABX9TyPSj4XPQiIvoMi7SJeT9PPR",
      "include_colab_link": true
    },
    "kernelspec": {
      "name": "python3",
      "display_name": "Python 3"
    },
    "language_info": {
      "name": "python"
    }
  },
  "cells": [
    {
      "cell_type": "markdown",
      "metadata": {
        "id": "view-in-github",
        "colab_type": "text"
      },
      "source": [
        "<a href=\"https://colab.research.google.com/github/AndraSatria2018/Data-Mining/blob/main/BTC_Harian_Regresi_Linier.ipynb\" target=\"_parent\"><img src=\"https://colab.research.google.com/assets/colab-badge.svg\" alt=\"Open In Colab\"/></a>"
      ]
    },
    {
      "cell_type": "code",
      "metadata": {
        "id": "4p-GzZUPMepJ"
      },
      "source": [
        "import numpy as np\n",
        "import pandas as pd\n",
        "import matplotlib.pyplot as plt\n",
        "import sklearn"
      ],
      "execution_count": 1,
      "outputs": []
    },
    {
      "cell_type": "code",
      "metadata": {
        "id": "nr3uoW_xM3ky"
      },
      "source": [
        "dataset = pd.read_excel('BTC.xlsx')\n",
        "x = dataset.iloc[:, :-1].values\n",
        "y = dataset.iloc[:, 1].values"
      ],
      "execution_count": 2,
      "outputs": []
    },
    {
      "cell_type": "code",
      "metadata": {
        "colab": {
          "base_uri": "https://localhost:8080/"
        },
        "id": "bxTRQyr7NHxi",
        "outputId": "de0b3905-d533-4905-f77b-4af5e95c168b"
      },
      "source": [
        "dataset.keys()"
      ],
      "execution_count": 3,
      "outputs": [
        {
          "output_type": "execute_result",
          "data": {
            "text/plain": [
              "Index(['Hari', 'Harga'], dtype='object')"
            ]
          },
          "metadata": {
            "tags": []
          },
          "execution_count": 3
        }
      ]
    },
    {
      "cell_type": "code",
      "metadata": {
        "colab": {
          "base_uri": "https://localhost:8080/"
        },
        "id": "yk8PAHUpNJ4E",
        "outputId": "0070488d-5c7f-4213-ae13-0a45818cacba"
      },
      "source": [
        "dataset.shape"
      ],
      "execution_count": 4,
      "outputs": [
        {
          "output_type": "execute_result",
          "data": {
            "text/plain": [
              "(365, 2)"
            ]
          },
          "metadata": {
            "tags": []
          },
          "execution_count": 4
        }
      ]
    },
    {
      "cell_type": "code",
      "metadata": {
        "colab": {
          "base_uri": "https://localhost:8080/",
          "height": 206
        },
        "id": "eLJx1Co3NLMN",
        "outputId": "d52a1a61-1866-4da6-8eef-506974dfdacb"
      },
      "source": [
        "dataku = pd.DataFrame(dataset)\n",
        "dataku.head()"
      ],
      "execution_count": 5,
      "outputs": [
        {
          "output_type": "execute_result",
          "data": {
            "text/html": [
              "<div>\n",
              "<style scoped>\n",
              "    .dataframe tbody tr th:only-of-type {\n",
              "        vertical-align: middle;\n",
              "    }\n",
              "\n",
              "    .dataframe tbody tr th {\n",
              "        vertical-align: top;\n",
              "    }\n",
              "\n",
              "    .dataframe thead th {\n",
              "        text-align: right;\n",
              "    }\n",
              "</style>\n",
              "<table border=\"1\" class=\"dataframe\">\n",
              "  <thead>\n",
              "    <tr style=\"text-align: right;\">\n",
              "      <th></th>\n",
              "      <th>Hari</th>\n",
              "      <th>Harga</th>\n",
              "    </tr>\n",
              "  </thead>\n",
              "  <tbody>\n",
              "    <tr>\n",
              "      <th>0</th>\n",
              "      <td>1</td>\n",
              "      <td>137140992</td>\n",
              "    </tr>\n",
              "    <tr>\n",
              "      <th>1</th>\n",
              "      <td>2</td>\n",
              "      <td>136959008</td>\n",
              "    </tr>\n",
              "    <tr>\n",
              "      <th>2</th>\n",
              "      <td>3</td>\n",
              "      <td>136106000</td>\n",
              "    </tr>\n",
              "    <tr>\n",
              "      <th>3</th>\n",
              "      <td>4</td>\n",
              "      <td>135563008</td>\n",
              "    </tr>\n",
              "    <tr>\n",
              "      <th>4</th>\n",
              "      <td>5</td>\n",
              "      <td>134500992</td>\n",
              "    </tr>\n",
              "  </tbody>\n",
              "</table>\n",
              "</div>"
            ],
            "text/plain": [
              "   Hari      Harga\n",
              "0     1  137140992\n",
              "1     2  136959008\n",
              "2     3  136106000\n",
              "3     4  135563008\n",
              "4     5  134500992"
            ]
          },
          "metadata": {
            "tags": []
          },
          "execution_count": 5
        }
      ]
    },
    {
      "cell_type": "code",
      "metadata": {
        "colab": {
          "base_uri": "https://localhost:8080/"
        },
        "id": "4Z-gkEucX5kt",
        "outputId": "4e7b8708-a5e7-4c6a-eb39-3e265dcbf1b2"
      },
      "source": [
        "print(dataku)"
      ],
      "execution_count": 6,
      "outputs": [
        {
          "output_type": "stream",
          "text": [
            "     Hari      Harga\n",
            "0       1  137140992\n",
            "1       2  136959008\n",
            "2       3  136106000\n",
            "3       4  135563008\n",
            "4       5  134500992\n",
            "..    ...        ...\n",
            "360   361  537102016\n",
            "361   362  526753984\n",
            "362   363  537710016\n",
            "363   364  515000000\n",
            "364   365  537000000\n",
            "\n",
            "[365 rows x 2 columns]\n"
          ],
          "name": "stdout"
        }
      ]
    },
    {
      "cell_type": "code",
      "metadata": {
        "id": "FtZnXXSXNREV"
      },
      "source": [
        "from sklearn.model_selection import train_test_split\n",
        "x_train, x_test, y_train, y_test = train_test_split(x, y, test_size = 0.2, random_state=0)"
      ],
      "execution_count": 7,
      "outputs": []
    },
    {
      "cell_type": "code",
      "metadata": {
        "colab": {
          "base_uri": "https://localhost:8080/"
        },
        "id": "fOMdompJYLrN",
        "outputId": "d7c377f5-6406-459d-ab3a-0358e4da904d"
      },
      "source": [
        "print(y_test)"
      ],
      "execution_count": 8,
      "outputs": [
        {
          "output_type": "stream",
          "text": [
            "[160559008 662300032 161823008 133699000 171000992 578152000 156000000\n",
            " 825011008 637998976 134251008 167419008 198642000 706585024 812001024\n",
            " 863110976 545499008 848102016 153302000 445567008 199999008 204124992\n",
            " 406527008 172763008 836004992 898996992 725518976 174832992 780200000\n",
            " 159499008 338500000 167320992 160068992 132958000 137375008 170602000\n",
            " 133809000 174579008 190152000 713998976 183130000 512692992 939993024\n",
            " 487351008 714000000 132949000 936000000 530179008 550550016 657150016\n",
            " 181400000 264863008 503300000 515000000 265500000 159347008 172415008\n",
            " 169692000 198632992 155788992 168800992 829590976 830744000 133030000\n",
            " 156600992 837513024 564008000 171596000 167064992 508383008 262815008\n",
            " 168266000 264892000 157596992]\n"
          ],
          "name": "stdout"
        }
      ]
    },
    {
      "cell_type": "code",
      "metadata": {
        "id": "Iws_XQgDafnW"
      },
      "source": [
        "print(x_test)"
      ],
      "execution_count": null,
      "outputs": []
    },
    {
      "cell_type": "code",
      "metadata": {
        "colab": {
          "base_uri": "https://localhost:8080/"
        },
        "id": "vjoKGczNNmhI",
        "outputId": "6060e1fe-5cc7-45b0-c60c-07048c94247d"
      },
      "source": [
        "from sklearn.linear_model import LinearRegression\n",
        "regressor = LinearRegression()\n",
        "regressor.fit(x_train, y_train)"
      ],
      "execution_count": 10,
      "outputs": [
        {
          "output_type": "execute_result",
          "data": {
            "text/plain": [
              "LinearRegression(copy_X=True, fit_intercept=True, n_jobs=None, normalize=False)"
            ]
          },
          "metadata": {
            "tags": []
          },
          "execution_count": 10
        }
      ]
    },
    {
      "cell_type": "code",
      "metadata": {
        "id": "2r86q6NGNyzW"
      },
      "source": [
        "y_pred = regressor.predict(x_test)"
      ],
      "execution_count": 11,
      "outputs": []
    },
    {
      "cell_type": "code",
      "metadata": {
        "colab": {
          "base_uri": "https://localhost:8080/",
          "height": 295
        },
        "id": "1Qfqt6n1N4RE",
        "outputId": "985851ba-3e42-46da-c41d-4c3dab8a5290"
      },
      "source": [
        "plt.scatter(dataku.Hari, dataku.Harga)\n",
        "plt.xlabel(\"Hari\")\n",
        "plt.ylabel(\"Harga\")\n",
        "plt.title(\"Grafik Harga Bitcoin Selama satu tahun\")\n",
        "plt.show()"
      ],
      "execution_count": 13,
      "outputs": [
        {
          "output_type": "display_data",
          "data": {
            "image/png": "[encoded data removed]",
            "text/plain": [
              "<Figure size 432x288 with 1 Axes>"
            ]
          },
          "metadata": {
            "tags": [],
            "needs_background": "light"
          }
        }
      ]
    },
    {
      "cell_type": "code",
      "metadata": {
        "colab": {
          "base_uri": "https://localhost:8080/",
          "height": 513
        },
        "id": "4LgIR-FRONVY",
        "outputId": "4ee8a736-0f9b-48ee-d54d-9c36b4481730"
      },
      "source": [
        "plt.figure(figsize=(10,8))\n",
        "plt.scatter(x_train, y_train, color = \"blue\")\n",
        "plt.plot(x_train, regressor.predict(x_train), color = 'red')\n",
        "\n",
        "plt.title('Perubahan Harga Bitcoin (Training Set)')\n",
        "plt.xlabel('Hari')\n",
        "plt.ylabel('Harga')\n",
        "plt.show()"
      ],
      "execution_count": 14,
      "outputs": [
        {
          "output_type": "display_data",
          "data": {
            "image/png": "[encoded data removed]",
            "text/plain": [
              "<Figure size 720x576 with 1 Axes>"
            ]
          },
          "metadata": {
            "tags": [],
            "needs_background": "light"
          }
        }
      ]
    },
    {
      "cell_type": "code",
      "metadata": {
        "colab": {
          "base_uri": "https://localhost:8080/",
          "height": 513
        },
        "id": "CMp9XHcVOuVe",
        "outputId": "88f9035e-39d1-4a5f-d2fd-dcc779da00ee"
      },
      "source": [
        "plt.figure(figsize=(10,8))\n",
        "plt.scatter(x_test, y_test, color = \"blue\")\n",
        "plt.plot(x_test, regressor.predict(x_test), color = 'red')\n",
        "\n",
        "plt.title('Perubahan Harga Bitcoin(test Set)')\n",
        "plt.xlabel('Hari')\n",
        "plt.ylabel('Harga')\n",
        "plt.show()"
      ],
      "execution_count": 15,
      "outputs": [
        {
          "output_type": "display_data",
          "data": {
            "image/png": "[encoded data removed]",
            "text/plain": [
              "<Figure size 720x576 with 1 Axes>"
            ]
          },
          "metadata": {
            "tags": [],
            "needs_background": "light"
          }
        }
      ]
    }
  ]
}